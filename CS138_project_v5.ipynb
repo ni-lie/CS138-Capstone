{
  "cells": [
    {
      "cell_type": "markdown",
      "metadata": {
        "id": "view-in-github",
        "colab_type": "text"
      },
      "source": [
        "<a href=\"https://colab.research.google.com/github/ni-lie/CS138-Capstone/blob/main/CS138_project_v5.ipynb\" target=\"_parent\"><img src=\"https://colab.research.google.com/assets/colab-badge.svg\" alt=\"Open In Colab\"/></a>"
      ]
    },
    {
      "cell_type": "markdown",
      "metadata": {
        "id": "W7BpzPTGgejt"
      },
      "source": [
        "# Import libraries\n",
        "\n"
      ]
    },
    {
      "cell_type": "code",
      "execution_count": null,
      "metadata": {
        "colab": {
          "base_uri": "https://localhost:8080/"
        },
        "id": "EuZ82iEs4rzE",
        "outputId": "f8478030-9cc1-4a6e-b9ff-6f93bc873d0b"
      },
      "outputs": [
        {
          "output_type": "stream",
          "name": "stdout",
          "text": [
            "Requirement already satisfied: ratelimiter in /usr/local/lib/python3.10/dist-packages (1.2.0.post0)\n"
          ]
        }
      ],
      "source": [
        "!pip install ratelimiter"
      ]
    },
    {
      "cell_type": "code",
      "execution_count": null,
      "metadata": {
        "id": "c0WVO00igxHM"
      },
      "outputs": [],
      "source": [
        "import requests\n",
        "import pandas as pd\n",
        "import numpy as np\n",
        "import random\n",
        "\n",
        "from ratelimiter import RateLimiter\n",
        "from matplotlib import pyplot as plt\n",
        "from sklearn.model_selection import train_test_split\n",
        "from sklearn.preprocessing import StandardScaler"
      ]
    },
    {
      "cell_type": "markdown",
      "metadata": {
        "id": "W0leU422EbIF"
      },
      "source": [
        "# Generating the Training Dataset from OpenDota"
      ]
    },
    {
      "cell_type": "code",
      "execution_count": null,
      "metadata": {
        "id": "c8qS15Gf0wvq"
      },
      "outputs": [],
      "source": [
        "@RateLimiter(max_calls=1, period=1)\n",
        "def getMatchIds():\n",
        "  url = f\"https://api.opendota.com/api/explorer?sql=SELECT matches.match_id FROM matches JOIN match_patch using(match_id) JOIN player_matches using(match_id) WHERE TRUE AND match_patch.patch >= '7.34' AND match_patch.patch <= '7.34' AND matches.duration >= 900 AND game_mode = 2 ORDER BY RANDOM() LIMIT 50\"\n",
        "  response = requests.get(url)\n",
        "  print(response.status_code)\n",
        "  if response.status_code == 200:\n",
        "    match_ids = [x['match_id'] for x in response.json()['rows']]\n",
        "    return match_ids\n",
        "  else: return []"
      ]
    },
    {
      "cell_type": "code",
      "execution_count": null,
      "metadata": {
        "id": "6ZeSX_kczwsD"
      },
      "outputs": [],
      "source": [
        "@RateLimiter(max_calls=1, period=1)\n",
        "def get_responses(match_ids):\n",
        "  # create a list of responses where we will append each request\n",
        "  responses = []\n",
        "\n",
        "  for match_id in match_ids:\n",
        "    # Define the API endpoint\n",
        "    url = f'https://api.opendota.com/api/matches/{match_id}?'\n",
        "\n",
        "    # append response\n",
        "    responses.append(requests.get(url))\n",
        "\n",
        "  return responses"
      ]
    },
    {
      "cell_type": "code",
      "execution_count": null,
      "metadata": {
        "id": "xrc1NPdD2LOe"
      },
      "outputs": [],
      "source": [
        "def extract_features(responses):\n",
        "  rows = []\n",
        "\n",
        "  for index, response in enumerate(responses):\n",
        "  # Check if the request was successful\n",
        "    if response.status_code == 200:\n",
        "      # Parse the JSON response\n",
        "      data = response.json()\n",
        "\n",
        "      try:\n",
        "        # initialize team array: gpm, xpm, kpm, won\n",
        "        team1 = [0, 0, 0]\n",
        "        team2 = [0, 0, 0]\n",
        "\n",
        "        for player in data['players']:\n",
        "          # Fetch the GPM, XPM, and KPM at the 15th minute\n",
        "\n",
        "          gpm = player['gold_t'][15] / 15       # Get Player's total Gold at 15th minute and divide by 15 para maging GPM\n",
        "          xpm = player['xp_t'][15] / 15\n",
        "          kills = len([kill for kill in player['kills_log'] if kill['time'] < (15*60)])\n",
        "\n",
        "          # Get team's accumulated gpm, xpm, kpm\n",
        "          if player['isRadiant']:\n",
        "            team1[0] += gpm\n",
        "            team1[1] += xpm\n",
        "            team1[2] += kills\n",
        "\n",
        "          else:\n",
        "            team2[0] += gpm\n",
        "            team2[1] += xpm\n",
        "            team2[2] += kills\n",
        "\n",
        "\n",
        "        for i in range(2):\n",
        "          team1[i] /= 5\n",
        "          team2[i] /= 5\n",
        "\n",
        "        # Append the team data to the DataFrame\n",
        "        rows.append({'bias': 1, 'gold_per_min': team1[0], 'exp_per_min': team1[1], 'kills': team1[2]})\n",
        "        rows.append({'bias': 1, 'gold_per_min': team2[0], 'exp_per_min': team2[1], 'kills': team2[2]})\n",
        "      except:\n",
        "        continue\n",
        "    else:\n",
        "        print(f'Error: {response.status_code}')\n",
        "\n",
        "  # Create a dataframe out of 'rows'\n",
        "  training_set = pd.concat([pd.DataFrame(rows)], ignore_index=True)\n",
        "  return training_set"
      ]
    },
    {
      "cell_type": "code",
      "execution_count": null,
      "metadata": {
        "id": "IfBY3pubyxGj"
      },
      "outputs": [],
      "source": [
        "def extract_dataset():\n",
        "  match_ids = getMatchIds()\n",
        "  responses = get_responses(match_ids)\n",
        "  matches = extract_features(responses)  # get matches with complete data\n",
        "\n",
        "  # Save the DataFrame to a CSV file\n",
        "  matches.to_csv('player_data_captain_mode.csv', index=False)"
      ]
    },
    {
      "cell_type": "code",
      "execution_count": null,
      "metadata": {
        "id": "jfulVFhwy8aT",
        "colab": {
          "base_uri": "https://localhost:8080/"
        },
        "outputId": "c0bf6e1d-e895-461c-c0b7-2f86b24ce7b8"
      },
      "outputs": [
        {
          "output_type": "stream",
          "name": "stdout",
          "text": [
            "200\n"
          ]
        }
      ],
      "source": [
        "extract_dataset()"
      ]
    },
    {
      "cell_type": "markdown",
      "metadata": {
        "id": "ttWhvmB4yX1w"
      },
      "source": [
        "# Exploratory Data Analysis"
      ]
    },
    {
      "cell_type": "code",
      "execution_count": null,
      "metadata": {
        "id": "6ks343TsjISl"
      },
      "outputs": [],
      "source": [
        "# Load dataset\n",
        "df = pd.read_csv('player_data_captain_mode.csv')\n",
        "\n",
        "matches_train, matches_test = train_test_split(df, test_size=0.2, random_state=42)"
      ]
    },
    {
      "cell_type": "code",
      "execution_count": null,
      "metadata": {
        "id": "kBXN_HL_Vsm1",
        "colab": {
          "base_uri": "https://localhost:8080/"
        },
        "outputId": "22a35377-01a9-4f2e-c84f-feb064ea600a"
      },
      "outputs": [
        {
          "output_type": "stream",
          "name": "stdout",
          "text": [
            "total entries: 100\n",
            "train entries (1 match = 2 entries i.e. Radiant & Dire): 80\n",
            "test entries (1 match = 2 entries i.e. Radiant & Dire): 20\n"
          ]
        }
      ],
      "source": [
        "print(f'total entries: {len(df)}')\n",
        "print(f'train entries (1 match = 2 entries i.e. Radiant & Dire): {len(matches_train)}')\n",
        "print(f'test entries (1 match = 2 entries i.e. Radiant & Dire): {len(matches_test)}')"
      ]
    },
    {
      "cell_type": "code",
      "execution_count": null,
      "metadata": {
        "id": "hHwyJYw3kV6b",
        "colab": {
          "base_uri": "https://localhost:8080/",
          "height": 1000
        },
        "outputId": "56a90952-0839-4f2c-81cd-1ba7f1b81803"
      },
      "outputs": [
        {
          "output_type": "display_data",
          "data": {
            "text/plain": [
              "<Figure size 640x480 with 1 Axes>"
            ],
            "image/png": "[encoded data removed]"
          },
          "metadata": {}
        },
        {
          "output_type": "display_data",
          "data": {
            "text/plain": [
              "<Figure size 640x480 with 1 Axes>"
            ],
            "image/png": "[encoded data removed]"
          },
          "metadata": {}
        },
        {
          "output_type": "display_data",
          "data": {
            "text/plain": [
              "<Figure size 640x480 with 1 Axes>"
            ],
            "image/png": "[encoded data removed]"
          },
          "metadata": {}
        }
      ],
      "source": [
        "matches_train.plot(kind='scatter', x='gold_per_min', y='exp_per_min', s=1, alpha=.5)\n",
        "matches_train.plot(kind='scatter', x='gold_per_min', y='kills', s=1, alpha=.5)\n",
        "matches_train.plot(kind='scatter', x='exp_per_min', y='kills', s=1, alpha=.5)\n",
        "plt.gca().spines[['top', 'right',]].set_visible(False)"
      ]
    },
    {
      "cell_type": "markdown",
      "metadata": {
        "id": "N0uF8HHIFlIm"
      },
      "source": [
        "# Training the Model"
      ]
    },
    {
      "cell_type": "code",
      "source": [
        "# loss = (1/n) * (y - (mx + b)) ** 2 where n is the number of points\n",
        "def loss(y, y_pred):\n",
        "    n = len(y)\n",
        "    s = 0\n",
        "    for i in range(n):\n",
        "        s += (y[i] - y_pred[i])**2\n",
        "    return (1/n)*s"
      ],
      "metadata": {
        "id": "K1inUov_bIGC"
      },
      "execution_count": null,
      "outputs": []
    },
    {
      "cell_type": "code",
      "source": [
        "# calculates \"w*X+b\"\n",
        "def predicted_y(w, X, b):\n",
        "    return np.array([w @ x + b for x in X])"
      ],
      "metadata": {
        "id": "Y8JzMm6jeKeB"
      },
      "execution_count": null,
      "outputs": []
    },
    {
      "cell_type": "code",
      "source": [
        "# derivative of loss w.r.t weight/slope\n",
        "# D_m = (-2/n) * np.dot(X.T, (y - y_pred))\n",
        "\n",
        "def dldw(x, y, y_pred):\n",
        "    n = len(y)\n",
        "    s = 0\n",
        "    for i in range(n):\n",
        "        s += -x[i] *(y[i] - y_pred[i])\n",
        "    return (2/n)*s\n"
      ],
      "metadata": {
        "id": "H9ZLJS1HczrF"
      },
      "execution_count": null,
      "outputs": []
    },
    {
      "cell_type": "code",
      "source": [
        "# derivative of loss w.r.t intercept/bias\n",
        "# D_b = (-2/n) * np.sum(y - y_pred)\n",
        "def dldb(y, y_pred):\n",
        "    n = len(y)\n",
        "    s = 0\n",
        "    for i in range(len(y)):\n",
        "        s += -(y[i] - y_pred[i])\n",
        "    return (2/n) * s"
      ],
      "metadata": {
        "id": "TBhNMQR9dQS8"
      },
      "execution_count": null,
      "outputs": []
    },
    {
      "cell_type": "code",
      "source": [
        "# X: features (xpm, gpm); y: target value (kpm); w: weight vector = [0, 0]; b: intercept\n",
        "def descend(X, y, w, b, learning_rate, epochs):\n",
        "  linear_loss = []\n",
        "  for i in range(epochs):\n",
        "    y_pred = predicted_y(w, X, b)\n",
        "\n",
        "    # update w: weight and b: intercept\n",
        "    w = w - learning_rate * dldw(X, y, y_pred)  # update weight\n",
        "    b = b - learning_rate * dldb(y, y_pred)    # update bias\n",
        "\n",
        "    linear_loss.append(loss(y, y_pred))\n",
        "\n",
        "  # plt.plot(np.arange(1, epochs), linear_loss[1:])\n",
        "  # plt.xlabel(\"number of epoch\")\n",
        "  # plt.ylabel(\"loss\")\n",
        "\n",
        "  return (w, b)"
      ],
      "metadata": {
        "id": "kUkERGYyxH1Q"
      },
      "execution_count": null,
      "outputs": []
    },
    {
      "cell_type": "code",
      "execution_count": null,
      "metadata": {
        "id": "d5GpcB-QWoEQ"
      },
      "outputs": [],
      "source": [
        "# Define features and target variable\n",
        "features = ['gold_per_min', 'exp_per_min']\n",
        "target = 'kills'\n",
        "\n",
        "# Initialize theta with an additional element for the bias term\n",
        "theta = np.zeros(len(features) + 1)\n",
        "\n",
        "# Normalize features\n",
        "for feature in features:\n",
        "    matches_train[feature] = (matches_train[feature] - matches_train[feature].mean()) / matches_train[feature].std()"
      ]
    },
    {
      "cell_type": "code",
      "execution_count": null,
      "metadata": {
        "id": "lKaY1AWXW6Fk"
      },
      "outputs": [],
      "source": [
        "# Split the dataset into features (X) and target variable (y)\n",
        "X = matches_train.drop([target, \"bias\"], axis=1).values\n",
        "y = matches_train[target].values"
      ]
    },
    {
      "cell_type": "code",
      "source": [
        "# Standardize the data\n",
        "from sklearn.preprocessing import StandardScaler\n",
        "sc = StandardScaler()\n",
        "X_transform = sc.fit_transform(X)"
      ],
      "metadata": {
        "id": "iC9G1vmDZo3d"
      },
      "execution_count": null,
      "outputs": []
    },
    {
      "cell_type": "code",
      "source": [
        "# Initialize parameters: w - weight vector; b - intercept\n",
        "w = np.zeros(2)\n",
        "b = 0\n",
        "iterations = 1000\n",
        "\n",
        "# Initialize Hyperparameter (Learning Rate)\n",
        "L = 0.01"
      ],
      "metadata": {
        "id": "ZgZEMnW0ac8s"
      },
      "execution_count": null,
      "outputs": []
    },
    {
      "cell_type": "code",
      "source": [
        "w, b = descend(X_transform, y, w, b, L, iterations)"
      ],
      "metadata": {
        "id": "-Lz2aPP7-VeB"
      },
      "execution_count": null,
      "outputs": []
    },
    {
      "cell_type": "code",
      "source": [
        "print(f'weight: {w} \\t b: {b}')"
      ],
      "metadata": {
        "colab": {
          "base_uri": "https://localhost:8080/"
        },
        "id": "vIKq3zWzn1tE",
        "outputId": "667c45e3-c287-499b-9c97-cf3c4a689693"
      },
      "execution_count": null,
      "outputs": [
        {
          "output_type": "stream",
          "name": "stdout",
          "text": [
            "weight: [ 4.22071767 -1.45411277] \t b: 10.699999981992251\n"
          ]
        }
      ]
    },
    {
      "cell_type": "markdown",
      "metadata": {
        "id": "_QmfAH1NFLUc"
      },
      "source": [
        "# Predicting"
      ]
    },
    {
      "cell_type": "code",
      "source": [
        "def predict(inp, w, b):\n",
        "  y_list=[]\n",
        "\n",
        "  for i in range(len(inp)):\n",
        "    y_list.append(w @ inp[i] + b) # w*X + b\n",
        "  return np.array(y_list)"
      ],
      "metadata": {
        "id": "HLz5e912oi27"
      },
      "execution_count": null,
      "outputs": []
    },
    {
      "cell_type": "code",
      "source": [
        "# Normalize features\n",
        "for feature in features:\n",
        "    matches_test[feature] = (matches_test[feature] - matches_test[feature].mean()) / matches_test[feature].std()"
      ],
      "metadata": {
        "id": "7tUXpdzg4Wms"
      },
      "execution_count": null,
      "outputs": []
    },
    {
      "cell_type": "code",
      "source": [
        "X_test_normalized = matches_test.drop([target, \"bias\"], axis=1).values\n",
        "y_test = matches_test[target].values"
      ],
      "metadata": {
        "id": "G5DZ6Jg_4gmw"
      },
      "execution_count": null,
      "outputs": []
    },
    {
      "cell_type": "code",
      "source": [
        "y_pred_test = predict(X_test_normalized, w, b)\n",
        "y_pred_test"
      ],
      "metadata": {
        "id": "yDOBAxWYoljT",
        "colab": {
          "base_uri": "https://localhost:8080/"
        },
        "outputId": "fbb46ba4-4fe0-4450-9955-fad4d6c44e98"
      },
      "execution_count": null,
      "outputs": [
        {
          "output_type": "execute_result",
          "data": {
            "text/plain": [
              "array([ 8.90183944,  8.83886868, 13.68910545, 11.83252122, 11.04790256,\n",
              "        9.8705042 , 11.95368546, 11.03151273,  5.84637186, 10.42099265,\n",
              "       14.56308853,  9.47858885,  7.33066305, 13.33027942, 13.71682986,\n",
              "       11.32010178, 12.45988808, 13.38359515,  2.45438429, 12.52927638])"
            ]
          },
          "metadata": {},
          "execution_count": 64
        }
      ]
    },
    {
      "cell_type": "code",
      "source": [
        "df_pred = pd.DataFrame()\n",
        "df_pred[\"y_actual_test\"] = y_test\n",
        "df_pred[\"y_predicted\"] = np.round(y_pred_test, 1)\n",
        "df_pred"
      ],
      "metadata": {
        "colab": {
          "base_uri": "https://localhost:8080/",
          "height": 677
        },
        "id": "HQW3pNOyonq7",
        "outputId": "2b3b0f78-c58f-471e-b6bb-bcbf0951f54d"
      },
      "execution_count": null,
      "outputs": [
        {
          "output_type": "execute_result",
          "data": {
            "text/plain": [
              "    y_actual_test  y_predicted\n",
              "0               9          8.9\n",
              "1              10          8.8\n",
              "2              11         13.7\n",
              "3               4         11.8\n",
              "4               6         11.0\n",
              "5               3          9.9\n",
              "6               7         12.0\n",
              "7               9         11.0\n",
              "8               2          5.8\n",
              "9              11         10.4\n",
              "10              7         14.6\n",
              "11              6          9.5\n",
              "12              4          7.3\n",
              "13             12         13.3\n",
              "14             13         13.7\n",
              "15             13         11.3\n",
              "16             13         12.5\n",
              "17             21         13.4\n",
              "18              3          2.5\n",
              "19             10         12.5"
            ],
            "text/html": [
              "\n",
              "  <div id=\"df-79e4e162-43b6-4c4e-a2ba-e8a2a636c57a\" class=\"colab-df-container\">\n",
              "    <div>\n",
              "<style scoped>\n",
              "    .dataframe tbody tr th:only-of-type {\n",
              "        vertical-align: middle;\n",
              "    }\n",
              "\n",
              "    .dataframe tbody tr th {\n",
              "        vertical-align: top;\n",
              "    }\n",
              "\n",
              "    .dataframe thead th {\n",
              "        text-align: right;\n",
              "    }\n",
              "</style>\n",
              "<table border=\"1\" class=\"dataframe\">\n",
              "  <thead>\n",
              "    <tr style=\"text-align: right;\">\n",
              "      <th></th>\n",
              "      <th>y_actual_test</th>\n",
              "      <th>y_predicted</th>\n",
              "    </tr>\n",
              "  </thead>\n",
              "  <tbody>\n",
              "    <tr>\n",
              "      <th>0</th>\n",
              "      <td>9</td>\n",
              "      <td>8.9</td>\n",
              "    </tr>\n",
              "    <tr>\n",
              "      <th>1</th>\n",
              "      <td>10</td>\n",
              "      <td>8.8</td>\n",
              "    </tr>\n",
              "    <tr>\n",
              "      <th>2</th>\n",
              "      <td>11</td>\n",
              "      <td>13.7</td>\n",
              "    </tr>\n",
              "    <tr>\n",
              "      <th>3</th>\n",
              "      <td>4</td>\n",
              "      <td>11.8</td>\n",
              "    </tr>\n",
              "    <tr>\n",
              "      <th>4</th>\n",
              "      <td>6</td>\n",
              "      <td>11.0</td>\n",
              "    </tr>\n",
              "    <tr>\n",
              "      <th>5</th>\n",
              "      <td>3</td>\n",
              "      <td>9.9</td>\n",
              "    </tr>\n",
              "    <tr>\n",
              "      <th>6</th>\n",
              "      <td>7</td>\n",
              "      <td>12.0</td>\n",
              "    </tr>\n",
              "    <tr>\n",
              "      <th>7</th>\n",
              "      <td>9</td>\n",
              "      <td>11.0</td>\n",
              "    </tr>\n",
              "    <tr>\n",
              "      <th>8</th>\n",
              "      <td>2</td>\n",
              "      <td>5.8</td>\n",
              "    </tr>\n",
              "    <tr>\n",
              "      <th>9</th>\n",
              "      <td>11</td>\n",
              "      <td>10.4</td>\n",
              "    </tr>\n",
              "    <tr>\n",
              "      <th>10</th>\n",
              "      <td>7</td>\n",
              "      <td>14.6</td>\n",
              "    </tr>\n",
              "    <tr>\n",
              "      <th>11</th>\n",
              "      <td>6</td>\n",
              "      <td>9.5</td>\n",
              "    </tr>\n",
              "    <tr>\n",
              "      <th>12</th>\n",
              "      <td>4</td>\n",
              "      <td>7.3</td>\n",
              "    </tr>\n",
              "    <tr>\n",
              "      <th>13</th>\n",
              "      <td>12</td>\n",
              "      <td>13.3</td>\n",
              "    </tr>\n",
              "    <tr>\n",
              "      <th>14</th>\n",
              "      <td>13</td>\n",
              "      <td>13.7</td>\n",
              "    </tr>\n",
              "    <tr>\n",
              "      <th>15</th>\n",
              "      <td>13</td>\n",
              "      <td>11.3</td>\n",
              "    </tr>\n",
              "    <tr>\n",
              "      <th>16</th>\n",
              "      <td>13</td>\n",
              "      <td>12.5</td>\n",
              "    </tr>\n",
              "    <tr>\n",
              "      <th>17</th>\n",
              "      <td>21</td>\n",
              "      <td>13.4</td>\n",
              "    </tr>\n",
              "    <tr>\n",
              "      <th>18</th>\n",
              "      <td>3</td>\n",
              "      <td>2.5</td>\n",
              "    </tr>\n",
              "    <tr>\n",
              "      <th>19</th>\n",
              "      <td>10</td>\n",
              "      <td>12.5</td>\n",
              "    </tr>\n",
              "  </tbody>\n",
              "</table>\n",
              "</div>\n",
              "    <div class=\"colab-df-buttons\">\n",
              "\n",
              "  <div class=\"colab-df-container\">\n",
              "    <button class=\"colab-df-convert\" onclick=\"convertToInteractive('df-79e4e162-43b6-4c4e-a2ba-e8a2a636c57a')\"\n",
              "            title=\"Convert this dataframe to an interactive table.\"\n",
              "            style=\"display:none;\">\n",
              "\n",
              "  <svg xmlns=\"http://www.w3.org/2000/svg\" height=\"24px\" viewBox=\"0 -960 960 960\">\n",
              "    <path d=\"M120-120v-720h720v720H120Zm60-500h600v-160H180v160Zm220 220h160v-160H400v160Zm0 220h160v-160H400v160ZM180-400h160v-160H180v160Zm440 0h160v-160H620v160ZM180-180h160v-160H180v160Zm440 0h160v-160H620v160Z\"/>\n",
              "  </svg>\n",
              "    </button>\n",
              "\n",
              "  <style>\n",
              "    .colab-df-container {\n",
              "      display:flex;\n",
              "      gap: 12px;\n",
              "    }\n",
              "\n",
              "    .colab-df-convert {\n",
              "      background-color: #E8F0FE;\n",
              "      border: none;\n",
              "      border-radius: 50%;\n",
              "      cursor: pointer;\n",
              "      display: none;\n",
              "      fill: #1967D2;\n",
              "      height: 32px;\n",
              "      padding: 0 0 0 0;\n",
              "      width: 32px;\n",
              "    }\n",
              "\n",
              "    .colab-df-convert:hover {\n",
              "      background-color: #E2EBFA;\n",
              "      box-shadow: 0px 1px 2px rgba(60, 64, 67, 0.3), 0px 1px 3px 1px rgba(60, 64, 67, 0.15);\n",
              "      fill: #174EA6;\n",
              "    }\n",
              "\n",
              "    .colab-df-buttons div {\n",
              "      margin-bottom: 4px;\n",
              "    }\n",
              "\n",
              "    [theme=dark] .colab-df-convert {\n",
              "      background-color: #3B4455;\n",
              "      fill: #D2E3FC;\n",
              "    }\n",
              "\n",
              "    [theme=dark] .colab-df-convert:hover {\n",
              "      background-color: #434B5C;\n",
              "      box-shadow: 0px 1px 3px 1px rgba(0, 0, 0, 0.15);\n",
              "      filter: drop-shadow(0px 1px 2px rgba(0, 0, 0, 0.3));\n",
              "      fill: #FFFFFF;\n",
              "    }\n",
              "  </style>\n",
              "\n",
              "    <script>\n",
              "      const buttonEl =\n",
              "        document.querySelector('#df-79e4e162-43b6-4c4e-a2ba-e8a2a636c57a button.colab-df-convert');\n",
              "      buttonEl.style.display =\n",
              "        google.colab.kernel.accessAllowed ? 'block' : 'none';\n",
              "\n",
              "      async function convertToInteractive(key) {\n",
              "        const element = document.querySelector('#df-79e4e162-43b6-4c4e-a2ba-e8a2a636c57a');\n",
              "        const dataTable =\n",
              "          await google.colab.kernel.invokeFunction('convertToInteractive',\n",
              "                                                    [key], {});\n",
              "        if (!dataTable) return;\n",
              "\n",
              "        const docLinkHtml = 'Like what you see? Visit the ' +\n",
              "          '<a target=\"_blank\" href=https://colab.research.google.com/notebooks/data_table.ipynb>data table notebook</a>'\n",
              "          + ' to learn more about interactive tables.';\n",
              "        element.innerHTML = '';\n",
              "        dataTable['output_type'] = 'display_data';\n",
              "        await google.colab.output.renderOutput(dataTable, element);\n",
              "        const docLink = document.createElement('div');\n",
              "        docLink.innerHTML = docLinkHtml;\n",
              "        element.appendChild(docLink);\n",
              "      }\n",
              "    </script>\n",
              "  </div>\n",
              "\n",
              "\n",
              "<div id=\"df-e9690240-6984-44b4-9ad4-f6153a3bea58\">\n",
              "  <button class=\"colab-df-quickchart\" onclick=\"quickchart('df-e9690240-6984-44b4-9ad4-f6153a3bea58')\"\n",
              "            title=\"Suggest charts\"\n",
              "            style=\"display:none;\">\n",
              "\n",
              "<svg xmlns=\"http://www.w3.org/2000/svg\" height=\"24px\"viewBox=\"0 0 24 24\"\n",
              "     width=\"24px\">\n",
              "    <g>\n",
              "        <path d=\"M19 3H5c-1.1 0-2 .9-2 2v14c0 1.1.9 2 2 2h14c1.1 0 2-.9 2-2V5c0-1.1-.9-2-2-2zM9 17H7v-7h2v7zm4 0h-2V7h2v10zm4 0h-2v-4h2v4z\"/>\n",
              "    </g>\n",
              "</svg>\n",
              "  </button>\n",
              "\n",
              "<style>\n",
              "  .colab-df-quickchart {\n",
              "      --bg-color: #E8F0FE;\n",
              "      --fill-color: #1967D2;\n",
              "      --hover-bg-color: #E2EBFA;\n",
              "      --hover-fill-color: #174EA6;\n",
              "      --disabled-fill-color: #AAA;\n",
              "      --disabled-bg-color: #DDD;\n",
              "  }\n",
              "\n",
              "  [theme=dark] .colab-df-quickchart {\n",
              "      --bg-color: #3B4455;\n",
              "      --fill-color: #D2E3FC;\n",
              "      --hover-bg-color: #434B5C;\n",
              "      --hover-fill-color: #FFFFFF;\n",
              "      --disabled-bg-color: #3B4455;\n",
              "      --disabled-fill-color: #666;\n",
              "  }\n",
              "\n",
              "  .colab-df-quickchart {\n",
              "    background-color: var(--bg-color);\n",
              "    border: none;\n",
              "    border-radius: 50%;\n",
              "    cursor: pointer;\n",
              "    display: none;\n",
              "    fill: var(--fill-color);\n",
              "    height: 32px;\n",
              "    padding: 0;\n",
              "    width: 32px;\n",
              "  }\n",
              "\n",
              "  .colab-df-quickchart:hover {\n",
              "    background-color: var(--hover-bg-color);\n",
              "    box-shadow: 0 1px 2px rgba(60, 64, 67, 0.3), 0 1px 3px 1px rgba(60, 64, 67, 0.15);\n",
              "    fill: var(--button-hover-fill-color);\n",
              "  }\n",
              "\n",
              "  .colab-df-quickchart-complete:disabled,\n",
              "  .colab-df-quickchart-complete:disabled:hover {\n",
              "    background-color: var(--disabled-bg-color);\n",
              "    fill: var(--disabled-fill-color);\n",
              "    box-shadow: none;\n",
              "  }\n",
              "\n",
              "  .colab-df-spinner {\n",
              "    border: 2px solid var(--fill-color);\n",
              "    border-color: transparent;\n",
              "    border-bottom-color: var(--fill-color);\n",
              "    animation:\n",
              "      spin 1s steps(1) infinite;\n",
              "  }\n",
              "\n",
              "  @keyframes spin {\n",
              "    0% {\n",
              "      border-color: transparent;\n",
              "      border-bottom-color: var(--fill-color);\n",
              "      border-left-color: var(--fill-color);\n",
              "    }\n",
              "    20% {\n",
              "      border-color: transparent;\n",
              "      border-left-color: var(--fill-color);\n",
              "      border-top-color: var(--fill-color);\n",
              "    }\n",
              "    30% {\n",
              "      border-color: transparent;\n",
              "      border-left-color: var(--fill-color);\n",
              "      border-top-color: var(--fill-color);\n",
              "      border-right-color: var(--fill-color);\n",
              "    }\n",
              "    40% {\n",
              "      border-color: transparent;\n",
              "      border-right-color: var(--fill-color);\n",
              "      border-top-color: var(--fill-color);\n",
              "    }\n",
              "    60% {\n",
              "      border-color: transparent;\n",
              "      border-right-color: var(--fill-color);\n",
              "    }\n",
              "    80% {\n",
              "      border-color: transparent;\n",
              "      border-right-color: var(--fill-color);\n",
              "      border-bottom-color: var(--fill-color);\n",
              "    }\n",
              "    90% {\n",
              "      border-color: transparent;\n",
              "      border-bottom-color: var(--fill-color);\n",
              "    }\n",
              "  }\n",
              "</style>\n",
              "\n",
              "  <script>\n",
              "    async function quickchart(key) {\n",
              "      const quickchartButtonEl =\n",
              "        document.querySelector('#' + key + ' button');\n",
              "      quickchartButtonEl.disabled = true;  // To prevent multiple clicks.\n",
              "      quickchartButtonEl.classList.add('colab-df-spinner');\n",
              "      try {\n",
              "        const charts = await google.colab.kernel.invokeFunction(\n",
              "            'suggestCharts', [key], {});\n",
              "      } catch (error) {\n",
              "        console.error('Error during call to suggestCharts:', error);\n",
              "      }\n",
              "      quickchartButtonEl.classList.remove('colab-df-spinner');\n",
              "      quickchartButtonEl.classList.add('colab-df-quickchart-complete');\n",
              "    }\n",
              "    (() => {\n",
              "      let quickchartButtonEl =\n",
              "        document.querySelector('#df-e9690240-6984-44b4-9ad4-f6153a3bea58 button');\n",
              "      quickchartButtonEl.style.display =\n",
              "        google.colab.kernel.accessAllowed ? 'block' : 'none';\n",
              "    })();\n",
              "  </script>\n",
              "</div>\n",
              "    </div>\n",
              "  </div>\n"
            ]
          },
          "metadata": {},
          "execution_count": 65
        }
      ]
    },
    {
      "cell_type": "markdown",
      "source": [
        "# **Accuracy Assessment**"
      ],
      "metadata": {
        "id": "l14aJRnS-jpE"
      }
    },
    {
      "cell_type": "code",
      "source": [
        "def nrmse(actual, predicted):\n",
        "    # Calculate Root Mean Squared Error (RMSE)\n",
        "    rmse = np.sqrt(np.mean((actual - predicted) ** 2))\n",
        "\n",
        "    # Calculate the range of the target values\n",
        "    value_range = np.max(actual) - np.min(actual)\n",
        "\n",
        "    # Calculate Normalized Root Mean Squared Error (NRMSE)\n",
        "    nrmse = rmse / value_range\n",
        "\n",
        "    return nrmse"
      ],
      "metadata": {
        "id": "ExP9U4Hy-hd2"
      },
      "execution_count": null,
      "outputs": []
    },
    {
      "cell_type": "code",
      "source": [
        "def evaluate_model_accuracy(data, target_column, predicted_column):\n",
        "    actual_values = data[target_column]\n",
        "    predicted_values = data[predicted_column]\n",
        "\n",
        "    return nrmse(actual_values, predicted_values)"
      ],
      "metadata": {
        "id": "4wT5QjNP-tjF"
      },
      "execution_count": null,
      "outputs": []
    },
    {
      "cell_type": "code",
      "source": [
        "training_sizes = []\n",
        "nrmses = []\n",
        "\n",
        "def fn(size):\n",
        "  matches_train = df.sample(n=size).drop_duplicates()\n",
        "\n",
        "  # Normalize features\n",
        "  for feature in features:\n",
        "      matches_train[feature] = (matches_train[feature] - matches_train[feature].mean()) / matches_train[feature].std()\n",
        "\n",
        "  # Split the dataset into features (X) and target variable (y)\n",
        "  X = matches_train.drop([target, \"bias\"], axis=1).values\n",
        "  y = matches_train[target].values\n",
        "\n",
        "  X_transform = sc.fit_transform(X)\n",
        "\n",
        "  # Initialize parameters: w - weight vector; b - intercept\n",
        "  theta = np.zeros(2)\n",
        "\n",
        "  # Initialize parameters: w - weight vector; b - intercept\n",
        "  w = np.zeros(2)\n",
        "  b = 0\n",
        "  iterations = 1000\n",
        "\n",
        "  # Initialize Hyperparameter (Learning Rate)\n",
        "  L = 0.01\n",
        "\n",
        "  theta, b = descend(X_transform, y, theta, b, L, iterations)\n",
        "\n",
        "  # Normalize features\n",
        "  for feature in features:\n",
        "      df[feature] = (df[feature] - df[feature].mean()) / df[feature].std()\n",
        "\n",
        "  X_test_normalized = df.drop([target, \"bias\"], axis=1).values\n",
        "  y_test = df[target].values\n",
        "\n",
        "  y_pred_test = predict(X_test_normalized, theta, b)\n",
        "  df_pred = pd.DataFrame()\n",
        "  df_pred[\"y_actual_test\"] = y_test\n",
        "  df_pred[\"y_predicted\"] = np.round(y_pred_test, 1)\n",
        "\n",
        "  accuracy = evaluate_model_accuracy(df_pred, 'y_actual_test', 'y_predicted')\n",
        "  training_sizes.append(matches_train.shape[0])\n",
        "  nrmses.append(accuracy)\n",
        "\n",
        "# Re-train and re-Predict the same data set 10 times with different randomly selected and increasing training set\n",
        "for j in range(10):\n",
        "  for i in range(10):\n",
        "    fn(int(len(df) * (i + 1) * 0.1))\n",
        "\n",
        "\n",
        "# Plotting the data\n",
        "plt.plot(training_sizes, nrmses, marker='o')\n",
        "plt.title('Training Size vs NRMSEs')\n",
        "plt.xlabel('Training Size')\n",
        "plt.ylabel('NRMSE')\n",
        "plt.grid(True)\n",
        "plt.show()"
      ],
      "metadata": {
        "colab": {
          "base_uri": "https://localhost:8080/",
          "height": 472
        },
        "id": "FgkuoLc4r-O_",
        "outputId": "356a079f-f597-4861-cbd3-9a9d889a247e"
      },
      "execution_count": null,
      "outputs": [
        {
          "output_type": "display_data",
          "data": {
            "text/plain": [
              "<Figure size 640x480 with 1 Axes>"
            ],
            "image/png": "[encoded data removed]"
          },
          "metadata": {}
        }
      ]
    }
  ],
  "metadata": {
    "colab": {
      "provenance": [],
      "include_colab_link": true
    },
    "kernelspec": {
      "display_name": "Python 3",
      "name": "python3"
    },
    "language_info": {
      "name": "python"
    }
  },
  "nbformat": 4,
  "nbformat_minor": 0
}